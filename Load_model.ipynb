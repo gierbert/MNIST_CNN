{
 "cells": [
  {
   "cell_type": "code",
   "execution_count": 17,
   "id": "633db174-9dee-40ca-a602-e3580ed98036",
   "metadata": {
    "ExecutionIndicator": {
     "show": true
    },
    "execution": {
     "iopub.execute_input": "2025-01-06T12:12:56.711933Z",
     "iopub.status.busy": "2025-01-06T12:12:56.711588Z",
     "iopub.status.idle": "2025-01-06T12:12:56.716145Z",
     "shell.execute_reply": "2025-01-06T12:12:56.715443Z",
     "shell.execute_reply.started": "2025-01-06T12:12:56.711907Z"
    },
    "tags": []
   },
   "outputs": [],
   "source": [
    "import torch\n",
    "from torchvision import datasets, transforms\n",
    "import torchvision\n",
    "from torch.autograd import Variable\n",
    "import matplotlib.pyplot as plt\n",
    "%matplotlib inline"
   ]
  },
  {
   "cell_type": "code",
   "execution_count": 4,
   "id": "62905cfe-f4e8-449d-97e8-270eed89f607",
   "metadata": {
    "execution": {
     "iopub.execute_input": "2025-01-06T12:09:23.382436Z",
     "iopub.status.busy": "2025-01-06T12:09:23.382099Z",
     "iopub.status.idle": "2025-01-06T12:09:23.388487Z",
     "shell.execute_reply": "2025-01-06T12:09:23.387943Z",
     "shell.execute_reply.started": "2025-01-06T12:09:23.382409Z"
    },
    "tags": []
   },
   "outputs": [],
   "source": [
    "class CNN_wr(torch.nn.Module):\n",
    "    learning_rate=0.1\n",
    "    def __init__(self):\n",
    "        # 调用nn初始化\n",
    "        super(CNN_wr, self).__init__()\n",
    "        # 超参数\n",
    "        \n",
    "        input_feature = 1\n",
    "        \n",
    "        \n",
    "        feature_1 = 64\n",
    "        feature_2 = 128\n",
    "        \n",
    "        # 搭建第一层\n",
    "        self.conv1 = torch.nn.Sequential(torch.nn.Conv2d(input_feature,feature_1,kernel_size=5,stride=1,padding=0),\n",
    "                                         torch.nn.ReLU(),\n",
    "                                         torch.nn.MaxPool2d(kernel_size=2,stride=2))\n",
    "        # 第二层\n",
    "        self.conv2 = torch.nn.Sequential(torch.nn.Conv2d(feature_1,feature_2,kernel_size=3,stride=1,padding=0),\n",
    "                                         torch.nn.ReLU(),\n",
    "                                         torch.nn.MaxPool2d(kernel_size=2,stride=2))\n",
    "        # 全连接层\n",
    "        self.dense = torch.nn.Sequential(torch.nn.Linear(128*5*5,256),\n",
    "                                         torch.nn.ReLU(),\n",
    "                                        #  torch.nn.Dropout(p=0.5),\n",
    "                                         torch.nn.Linear(256, 10))\n",
    "    \n",
    "    def forward(self, x):\n",
    "        x = self.conv1(x)\n",
    "        x = self.conv2(x)\n",
    "        x = x.view(x.shape[0], -1)\n",
    "        x = self.dense(x)\n",
    "        return x"
   ]
  },
  {
   "cell_type": "code",
   "execution_count": 11,
   "id": "2560de80-bec2-440b-abcf-1369b2019beb",
   "metadata": {
    "ExecutionIndicator": {
     "show": true
    },
    "execution": {
     "iopub.execute_input": "2025-01-06T12:11:37.095064Z",
     "iopub.status.busy": "2025-01-06T12:11:37.094596Z",
     "iopub.status.idle": "2025-01-06T12:11:37.106334Z",
     "shell.execute_reply": "2025-01-06T12:11:37.105828Z",
     "shell.execute_reply.started": "2025-01-06T12:11:37.095038Z"
    },
    "tags": []
   },
   "outputs": [],
   "source": [
    "# 预处理函数\n",
    "transform_func = transforms.Compose([transforms.ToTensor(),\n",
    "                                    transforms.Normalize(mean=[0.5],std=[0.5])])\n",
    "# 加载数据\n",
    "test_dataset = datasets.MNIST(root='./data/',\n",
    "\t\t\t\ttrain=False,\n",
    "\t\t\t\ttransform=transform_func,\n",
    "\t\t\t\tdownload=False)"
   ]
  },
  {
   "cell_type": "code",
   "execution_count": 19,
   "id": "e72b4f33-2c95-4c62-be65-1334f8ef0184",
   "metadata": {
    "ExecutionIndicator": {
     "show": true
    },
    "execution": {
     "iopub.execute_input": "2025-01-06T12:15:37.566809Z",
     "iopub.status.busy": "2025-01-06T12:15:37.566435Z",
     "iopub.status.idle": "2025-01-06T12:15:37.572579Z",
     "shell.execute_reply": "2025-01-06T12:15:37.572108Z",
     "shell.execute_reply.started": "2025-01-06T12:15:37.566774Z"
    },
    "tags": []
   },
   "outputs": [],
   "source": [
    "# 加载模型\n",
    "model = torch.load('./model/my_model.pth')"
   ]
  },
  {
   "cell_type": "code",
   "execution_count": 15,
   "id": "e1741f53-6625-4a6f-a6a7-6a9d48213ba0",
   "metadata": {
    "execution": {
     "iopub.execute_input": "2025-01-06T12:12:34.542377Z",
     "iopub.status.busy": "2025-01-06T12:12:34.542044Z",
     "iopub.status.idle": "2025-01-06T12:12:34.546215Z",
     "shell.execute_reply": "2025-01-06T12:12:34.545573Z",
     "shell.execute_reply.started": "2025-01-06T12:12:34.542344Z"
    },
    "tags": []
   },
   "outputs": [
    {
     "name": "stdout",
     "output_type": "stream",
     "text": [
      "Using cuda device\n"
     ]
    }
   ],
   "source": [
    "device = \"cuda\" if torch.cuda.is_available() else \"mps\" if torch.backends.mps.is_available() else \"cpu\"\n",
    "print(f\"Using {device} device\")"
   ]
  },
  {
   "cell_type": "code",
   "execution_count": 21,
   "id": "9b1e8be3-dbed-4006-84c5-edb93c30d6d2",
   "metadata": {
    "ExecutionIndicator": {
     "show": true
    },
    "execution": {
     "iopub.execute_input": "2025-01-06T12:15:50.282458Z",
     "iopub.status.busy": "2025-01-06T12:15:50.282097Z",
     "iopub.status.idle": "2025-01-06T12:15:50.371993Z",
     "shell.execute_reply": "2025-01-06T12:15:50.371507Z",
     "shell.execute_reply.started": "2025-01-06T12:15:50.282434Z"
    },
    "tags": []
   },
   "outputs": [
    {
     "name": "stdout",
     "output_type": "stream",
     "text": [
      "Predict Label is: [tensor(1, device='cuda:0'), tensor(3, device='cuda:0'), tensor(9, device='cuda:0'), tensor(9, device='cuda:0')]\n",
      "Mark Label is: [tensor(1, device='cuda:0'), tensor(3, device='cuda:0'), tensor(9, device='cuda:0'), tensor(9, device='cuda:0')]\n"
     ]
    },
    {
     "data": {
      "text/plain": [
       "<matplotlib.image.AxesImage at 0x7f877c1cec50>"
      ]
     },
     "execution_count": 21,
     "metadata": {},
     "output_type": "execute_result"
    },
    {
     "data": {
      "image/png": "[encoded data removed]",
      "text/plain": [
       "<Figure size 640x480 with 1 Axes>"
      ]
     },
     "metadata": {},
     "output_type": "display_data"
    }
   ],
   "source": [
    "# 使用模型预测\n",
    "data_loader_test = torch.utils.data.DataLoader(dataset=test_dataset,\n",
    "                                          batch_size = 4,\n",
    "                                          shuffle = True)\n",
    "X_test, y_test = next(iter(data_loader_test))\n",
    "X_test = X_test.to(device)\n",
    "y_test = y_test.to(device)\n",
    "inputs = Variable(X_test)\n",
    "pred = model(inputs)\n",
    "_,pred = torch.max(pred, 1)\n",
    "\n",
    "print(\"Predict Label is:\", [ i for i in pred.data])\n",
    "print(\"Mark Label is:\",[i for i in y_test])\n",
    "\n",
    "img = torchvision.utils.make_grid(X_test)\n",
    "img = img.cpu()\n",
    "img = img.numpy().transpose(1,2,0)\n",
    "\n",
    "std  = [0.5,0.5,0.5]\n",
    "mean = [0.5,0.5,0.5]\n",
    "img = img*std+mean\n",
    "plt.imshow(img)"
   ]
  },
  {
   "cell_type": "code",
   "execution_count": null,
   "id": "be4e3944-4aa6-4423-8f7d-13de0baeafdf",
   "metadata": {},
   "outputs": [],
   "source": []
  }
 ],
 "metadata": {
  "kernelspec": {
   "display_name": "Python 3 (ipykernel)",
   "language": "python",
   "name": "python3"
  },
  "language_info": {
   "codemirror_mode": {
    "name": "ipython",
    "version": 3
   },
   "file_extension": ".py",
   "mimetype": "text/x-python",
   "name": "python",
   "nbconvert_exporter": "python",
   "pygments_lexer": "ipython3",
   "version": "3.10.14"
  }
 },
 "nbformat": 4,
 "nbformat_minor": 5
}
