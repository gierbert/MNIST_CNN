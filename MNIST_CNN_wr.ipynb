{
 "cells": [
  {
   "cell_type": "code",
   "execution_count": 1,
   "metadata": {
    "ExecuteTime": {
     "start_time": "2025-01-06T20:53:46.659899Z",
     "end_time": "2025-01-06T20:53:53.253678Z"
    },
    "ExecutionIndicator": {
     "show": true
    },
    "execution": {
     "iopub.execute_input": "2025-01-06T11:52:07.797616Z",
     "iopub.status.busy": "2025-01-06T11:52:07.797265Z",
     "iopub.status.idle": "2025-01-06T11:52:07.802165Z",
     "shell.execute_reply": "2025-01-06T11:52:07.801641Z",
     "shell.execute_reply.started": "2025-01-06T11:52:07.797593Z"
    },
    "tags": []
   },
   "outputs": [
    {
     "name": "stderr",
     "output_type": "stream",
     "text": [
      "E:\\software\\anaconda3\\envs\\pytorch\\lib\\site-packages\\tqdm\\auto.py:21: TqdmWarning: IProgress not found. Please update jupyter and ipywidgets. See https://ipywidgets.readthedocs.io/en/stable/user_install.html\n",
      "  from .autonotebook import tqdm as notebook_tqdm\n"
     ]
    }
   ],
   "source": [
    "import torch\n",
    "from torchvision import datasets, transforms\n",
    "import matplotlib.pyplot as plt\n",
    "import os\n",
    "import torchvision\n",
    "import numpy as np\n",
    "from torch.autograd import Variable\n",
    "import torchmetrics\n",
    "from tqdm import tqdm\n",
    "%matplotlib inline"
   ]
  },
  {
   "cell_type": "code",
   "execution_count": 2,
   "metadata": {
    "ExecuteTime": {
     "start_time": "2025-01-06T20:53:53.890821Z",
     "end_time": "2025-01-06T20:53:53.897827Z"
    },
    "execution": {
     "iopub.execute_input": "2025-01-06T11:52:09.027355Z",
     "iopub.status.busy": "2025-01-06T11:52:09.027007Z",
     "iopub.status.idle": "2025-01-06T11:52:09.030417Z",
     "shell.execute_reply": "2025-01-06T11:52:09.029923Z",
     "shell.execute_reply.started": "2025-01-06T11:52:09.027330Z"
    },
    "tags": []
   },
   "outputs": [],
   "source": [
    "# 预处理函数\n",
    "transform_func = transforms.Compose([transforms.ToTensor(),\n",
    "                                    transforms.Normalize(mean=[0.5],std=[0.5])])"
   ]
  },
  {
   "cell_type": "code",
   "execution_count": 4,
   "metadata": {
    "ExecuteTime": {
     "start_time": "2025-01-06T20:54:17.647614Z",
     "end_time": "2025-01-06T20:59:21.798293Z"
    },
    "ExecutionIndicator": {
     "show": true
    },
    "execution": {
     "iopub.execute_input": "2025-01-06T11:52:09.598267Z",
     "iopub.status.busy": "2025-01-06T11:52:09.597781Z",
     "iopub.status.idle": "2025-01-06T11:52:09.651986Z",
     "shell.execute_reply": "2025-01-06T11:52:09.651458Z",
     "shell.execute_reply.started": "2025-01-06T11:52:09.598244Z"
    },
    "tags": []
   },
   "outputs": [
    {
     "name": "stdout",
     "output_type": "stream",
     "text": [
      "Downloading http://yann.lecun.com/exdb/mnist/train-images-idx3-ubyte.gz\n",
      "Failed to download (trying next):\n",
      "HTTP Error 403: Forbidden\n",
      "\n",
      "Downloading https://ossci-datasets.s3.amazonaws.com/mnist/train-images-idx3-ubyte.gz\n",
      "Downloading https://ossci-datasets.s3.amazonaws.com/mnist/train-images-idx3-ubyte.gz to ./data/MNIST\\raw\\train-images-idx3-ubyte.gz\n"
     ]
    },
    {
     "name": "stderr",
     "output_type": "stream",
     "text": [
      "  3%|▎         | 294912/9912422 [00:14<08:02, 19937.62it/s]\n"
     ]
    },
    {
     "name": "stdout",
     "output_type": "stream",
     "text": [
      "Failed download. Trying https -> http instead. Downloading http://ossci-datasets.s3.amazonaws.com/mnist/train-images-idx3-ubyte.gz to ./data/MNIST\\raw\\train-images-idx3-ubyte.gz\n"
     ]
    },
    {
     "name": "stderr",
     "output_type": "stream",
     "text": [
      "100%|██████████| 9912422/9912422 [04:19<00:00, 38169.36it/s]\n"
     ]
    },
    {
     "name": "stdout",
     "output_type": "stream",
     "text": [
      "Extracting ./data/MNIST\\raw\\train-images-idx3-ubyte.gz to ./data/MNIST\\raw\n",
      "\n",
      "Downloading http://yann.lecun.com/exdb/mnist/train-labels-idx1-ubyte.gz\n",
      "Failed to download (trying next):\n",
      "HTTP Error 403: Forbidden\n",
      "\n",
      "Downloading https://ossci-datasets.s3.amazonaws.com/mnist/train-labels-idx1-ubyte.gz\n",
      "Downloading https://ossci-datasets.s3.amazonaws.com/mnist/train-labels-idx1-ubyte.gz to ./data/MNIST\\raw\\train-labels-idx1-ubyte.gz\n"
     ]
    },
    {
     "name": "stderr",
     "output_type": "stream",
     "text": [
      "100%|██████████| 28881/28881 [00:00<00:00, 233035.72it/s]\n"
     ]
    },
    {
     "name": "stdout",
     "output_type": "stream",
     "text": [
      "Extracting ./data/MNIST\\raw\\train-labels-idx1-ubyte.gz to ./data/MNIST\\raw\n",
      "\n",
      "Downloading http://yann.lecun.com/exdb/mnist/t10k-images-idx3-ubyte.gz\n",
      "Failed to download (trying next):\n",
      "HTTP Error 403: Forbidden\n",
      "\n",
      "Downloading https://ossci-datasets.s3.amazonaws.com/mnist/t10k-images-idx3-ubyte.gz\n",
      "Downloading https://ossci-datasets.s3.amazonaws.com/mnist/t10k-images-idx3-ubyte.gz to ./data/MNIST\\raw\\t10k-images-idx3-ubyte.gz\n"
     ]
    },
    {
     "name": "stderr",
     "output_type": "stream",
     "text": [
      "100%|██████████| 1648877/1648877 [00:01<00:00, 1389210.51it/s]\n"
     ]
    },
    {
     "name": "stdout",
     "output_type": "stream",
     "text": [
      "Extracting ./data/MNIST\\raw\\t10k-images-idx3-ubyte.gz to ./data/MNIST\\raw\n",
      "\n",
      "Downloading http://yann.lecun.com/exdb/mnist/t10k-labels-idx1-ubyte.gz\n",
      "Failed to download (trying next):\n",
      "HTTP Error 403: Forbidden\n",
      "\n",
      "Downloading https://ossci-datasets.s3.amazonaws.com/mnist/t10k-labels-idx1-ubyte.gz\n",
      "Downloading https://ossci-datasets.s3.amazonaws.com/mnist/t10k-labels-idx1-ubyte.gz to ./data/MNIST\\raw\\t10k-labels-idx1-ubyte.gz\n"
     ]
    },
    {
     "name": "stderr",
     "output_type": "stream",
     "text": [
      "100%|██████████| 4542/4542 [00:00<00:00, 43014.33it/s]"
     ]
    },
    {
     "name": "stdout",
     "output_type": "stream",
     "text": [
      "Extracting ./data/MNIST\\raw\\t10k-labels-idx1-ubyte.gz to ./data/MNIST\\raw\n",
      "\n"
     ]
    },
    {
     "name": "stderr",
     "output_type": "stream",
     "text": [
      "\n"
     ]
    }
   ],
   "source": [
    "# 下载训练集并预处理\n",
    "train_dataset = datasets.MNIST(root='./data/',\n",
    "\t\t\t\ttrain=True,\n",
    "\t\t\t\ttransform=transform_func,\n",
    "\t\t\t\tdownload=True)\n",
    "# 下载测试集并预处理\n",
    "test_dataset = datasets.MNIST(root='./data/',\n",
    "\t\t\t\ttrain=False,\n",
    "\t\t\t\ttransform=transform_func,\n",
    "\t\t\t\tdownload=True)"
   ]
  },
  {
   "cell_type": "code",
   "execution_count": 5,
   "metadata": {
    "ExecuteTime": {
     "start_time": "2025-01-06T21:00:18.136584Z",
     "end_time": "2025-01-06T21:00:18.144585Z"
    },
    "execution": {
     "iopub.execute_input": "2025-01-06T11:52:13.324647Z",
     "iopub.status.busy": "2025-01-06T11:52:13.324170Z",
     "iopub.status.idle": "2025-01-06T11:52:13.330059Z",
     "shell.execute_reply": "2025-01-06T11:52:13.329570Z",
     "shell.execute_reply.started": "2025-01-06T11:52:13.324622Z"
    },
    "tags": []
   },
   "outputs": [],
   "source": [
    "batch_size = 64\n",
    "# 装载训练集，打乱顺序\n",
    "data_loader_train = torch.utils.data.DataLoader(dataset=train_dataset,\n",
    "                                                batch_size = batch_size,\n",
    "                                                shuffle = True,\n",
    "                                                num_workers=2)\n",
    "\n",
    "# 装载测试集，打乱顺序\n",
    "data_loader_test = torch.utils.data.DataLoader(dataset=test_dataset,\n",
    "                                               batch_size = batch_size,\n",
    "                                               shuffle = True,\n",
    "                                                num_workers=2)"
   ]
  },
  {
   "cell_type": "code",
   "execution_count": 6,
   "metadata": {
    "ExecuteTime": {
     "start_time": "2025-01-06T21:00:19.485432Z",
     "end_time": "2025-01-06T21:00:19.505436Z"
    },
    "execution": {
     "iopub.execute_input": "2025-01-06T11:52:15.042328Z",
     "iopub.status.busy": "2025-01-06T11:52:15.041985Z",
     "iopub.status.idle": "2025-01-06T11:52:15.051002Z",
     "shell.execute_reply": "2025-01-06T11:52:15.050526Z",
     "shell.execute_reply.started": "2025-01-06T11:52:15.042306Z"
    },
    "scrolled": true,
    "tags": []
   },
   "outputs": [
    {
     "name": "stdout",
     "output_type": "stream",
     "text": [
      "(tensor([[[-1.0000, -1.0000, -1.0000, -1.0000, -1.0000, -1.0000, -1.0000,\n",
      "          -1.0000, -1.0000, -1.0000, -1.0000, -1.0000, -1.0000, -1.0000,\n",
      "          -1.0000, -1.0000, -1.0000, -1.0000, -1.0000, -1.0000, -1.0000,\n",
      "          -1.0000, -1.0000, -1.0000, -1.0000, -1.0000, -1.0000, -1.0000],\n",
      "         [-1.0000, -1.0000, -1.0000, -1.0000, -1.0000, -1.0000, -1.0000,\n",
      "          -1.0000, -1.0000, -1.0000, -1.0000, -1.0000, -1.0000, -1.0000,\n",
      "          -1.0000, -1.0000, -1.0000, -1.0000, -1.0000, -1.0000, -1.0000,\n",
      "          -1.0000, -1.0000, -1.0000, -1.0000, -1.0000, -1.0000, -1.0000],\n",
      "         [-1.0000, -1.0000, -1.0000, -1.0000, -1.0000, -1.0000, -1.0000,\n",
      "          -1.0000, -1.0000, -1.0000, -1.0000, -1.0000, -1.0000, -1.0000,\n",
      "          -1.0000, -1.0000, -1.0000, -1.0000, -1.0000, -1.0000, -1.0000,\n",
      "          -1.0000, -1.0000, -1.0000, -1.0000, -1.0000, -1.0000, -1.0000],\n",
      "         [-1.0000, -1.0000, -1.0000, -1.0000, -1.0000, -1.0000, -1.0000,\n",
      "          -1.0000, -1.0000, -1.0000, -1.0000, -1.0000, -1.0000, -1.0000,\n",
      "          -1.0000, -1.0000, -1.0000, -1.0000, -1.0000, -1.0000, -1.0000,\n",
      "          -1.0000, -1.0000, -1.0000, -1.0000, -1.0000, -1.0000, -1.0000],\n",
      "         [-1.0000, -1.0000, -1.0000, -1.0000, -1.0000, -1.0000, -1.0000,\n",
      "          -1.0000, -1.0000, -1.0000, -1.0000, -1.0000, -1.0000, -1.0000,\n",
      "          -1.0000, -0.6000,  0.2471,  0.9843,  0.2471, -0.6078, -1.0000,\n",
      "          -1.0000, -1.0000, -1.0000, -1.0000, -1.0000, -1.0000, -1.0000],\n",
      "         [-1.0000, -1.0000, -1.0000, -1.0000, -1.0000, -1.0000, -1.0000,\n",
      "          -1.0000, -1.0000, -1.0000, -1.0000, -1.0000, -1.0000, -1.0000,\n",
      "          -0.6235,  0.8667,  0.9765,  0.9765,  0.9765,  0.8588, -1.0000,\n",
      "          -1.0000, -1.0000, -1.0000, -1.0000, -1.0000, -1.0000, -1.0000],\n",
      "         [-1.0000, -1.0000, -1.0000, -1.0000, -1.0000, -1.0000, -1.0000,\n",
      "          -1.0000, -1.0000, -1.0000, -1.0000, -1.0000, -1.0000, -0.5765,\n",
      "           0.7804,  0.9843,  0.9765,  0.8745,  0.8275,  0.9765, -0.5529,\n",
      "          -0.9529, -1.0000, -1.0000, -1.0000, -1.0000, -1.0000, -1.0000],\n",
      "         [-1.0000, -1.0000, -1.0000, -1.0000, -1.0000, -1.0000, -1.0000,\n",
      "          -1.0000, -1.0000, -1.0000, -1.0000, -0.9216, -0.5294,  0.7569,\n",
      "           0.9765,  0.9843,  0.9765,  0.5843, -0.3412,  0.9765,  0.9843,\n",
      "          -0.0431, -1.0000, -1.0000, -1.0000, -1.0000, -1.0000, -1.0000],\n",
      "         [-1.0000, -1.0000, -1.0000, -1.0000, -1.0000, -1.0000, -1.0000,\n",
      "          -1.0000, -1.0000, -1.0000, -1.0000,  0.2784,  0.9765,  0.9765,\n",
      "           0.9765,  0.9843,  0.9765,  0.9765, -0.2471,  0.4824,  0.9843,\n",
      "           0.3098, -1.0000, -1.0000, -1.0000, -1.0000, -1.0000, -1.0000],\n",
      "         [-1.0000, -1.0000, -1.0000, -1.0000, -1.0000, -1.0000, -1.0000,\n",
      "          -1.0000, -1.0000, -1.0000, -0.6000,  0.8667,  0.9843,  0.9843,\n",
      "           0.4902, -0.1059,  0.9843,  0.7882, -0.6314, -0.3804,  1.0000,\n",
      "           0.3176, -1.0000, -1.0000, -1.0000, -1.0000, -1.0000, -1.0000],\n",
      "         [-1.0000, -1.0000, -1.0000, -1.0000, -1.0000, -1.0000, -1.0000,\n",
      "          -1.0000, -1.0000, -0.6235,  0.8667,  0.9765,  0.9765,  0.4039,\n",
      "          -0.9059, -0.4118, -0.0510, -0.8353, -1.0000, -1.0000,  0.9843,\n",
      "           0.9059, -0.6078, -1.0000, -1.0000, -1.0000, -1.0000, -1.0000],\n",
      "         [-1.0000, -1.0000, -1.0000, -1.0000, -1.0000, -1.0000, -1.0000,\n",
      "          -1.0000, -0.7020,  0.2941,  0.9843,  0.8275,  0.6314, -0.3412,\n",
      "          -1.0000, -1.0000, -1.0000, -1.0000, -1.0000, -1.0000,  0.9843,\n",
      "           0.9765,  0.2941, -1.0000, -1.0000, -1.0000, -1.0000, -1.0000],\n",
      "         [-1.0000, -1.0000, -1.0000, -1.0000, -1.0000, -1.0000, -1.0000,\n",
      "          -0.9451,  0.3961,  0.9765,  0.8824, -0.4431, -0.8510, -0.7804,\n",
      "          -1.0000, -1.0000, -1.0000, -1.0000, -1.0000, -1.0000,  0.9843,\n",
      "           0.9765,  0.5294, -1.0000, -1.0000, -1.0000, -1.0000, -1.0000],\n",
      "         [-1.0000, -1.0000, -1.0000, -1.0000, -1.0000, -1.0000, -1.0000,\n",
      "          -0.5529,  0.9765,  0.9765, -0.5059, -1.0000, -1.0000, -1.0000,\n",
      "          -1.0000, -1.0000, -1.0000, -1.0000, -1.0000, -1.0000,  0.9843,\n",
      "           0.9765,  0.5294, -1.0000, -1.0000, -1.0000, -1.0000, -1.0000],\n",
      "         [-1.0000, -1.0000, -1.0000, -1.0000, -1.0000, -1.0000, -1.0000,\n",
      "           0.5529,  0.9843,  0.4902, -1.0000, -1.0000, -1.0000, -1.0000,\n",
      "          -1.0000, -1.0000, -1.0000, -1.0000, -1.0000, -1.0000,  1.0000,\n",
      "           0.9843,  0.5373, -1.0000, -1.0000, -1.0000, -1.0000, -1.0000],\n",
      "         [-1.0000, -1.0000, -1.0000, -1.0000, -1.0000, -1.0000, -0.4039,\n",
      "           0.9294,  0.9765, -0.1216, -1.0000, -1.0000, -1.0000, -1.0000,\n",
      "          -1.0000, -1.0000, -1.0000, -1.0000, -1.0000, -1.0000,  0.9843,\n",
      "           0.9765,  0.1608, -1.0000, -1.0000, -1.0000, -1.0000, -1.0000],\n",
      "         [-1.0000, -1.0000, -1.0000, -1.0000, -1.0000, -1.0000, -0.3333,\n",
      "           0.9765,  0.8039, -0.8039, -1.0000, -1.0000, -1.0000, -1.0000,\n",
      "          -1.0000, -1.0000, -1.0000, -1.0000, -0.9451,  0.0588,  0.9843,\n",
      "           0.4588, -0.9059, -1.0000, -1.0000, -1.0000, -1.0000, -1.0000],\n",
      "         [-1.0000, -1.0000, -1.0000, -1.0000, -1.0000, -1.0000, -0.3333,\n",
      "           0.9765,  0.7490, -1.0000, -1.0000, -1.0000, -1.0000, -1.0000,\n",
      "          -1.0000, -1.0000, -1.0000, -0.9451,  0.0275,  0.9765,  0.7647,\n",
      "          -0.4431, -1.0000, -1.0000, -1.0000, -1.0000, -1.0000, -1.0000],\n",
      "         [-1.0000, -1.0000, -1.0000, -1.0000, -1.0000, -1.0000, -0.3333,\n",
      "           0.9765,  0.1373, -1.0000, -1.0000, -1.0000, -1.0000, -1.0000,\n",
      "          -1.0000, -1.0000, -0.6235,  0.2941,  0.9765,  0.3569, -1.0000,\n",
      "          -1.0000, -1.0000, -1.0000, -1.0000, -1.0000, -1.0000, -1.0000],\n",
      "         [-1.0000, -1.0000, -1.0000, -1.0000, -1.0000, -1.0000, -0.3255,\n",
      "           0.9843,  0.7647, -1.0000, -1.0000, -1.0000, -1.0000, -1.0000,\n",
      "          -1.0000, -0.1059,  0.8667,  0.9843,  0.2706, -1.0000, -1.0000,\n",
      "          -1.0000, -1.0000, -1.0000, -1.0000, -1.0000, -1.0000, -1.0000],\n",
      "         [-1.0000, -1.0000, -1.0000, -1.0000, -1.0000, -1.0000, -0.3333,\n",
      "           0.9765,  0.9529,  0.1451, -0.6235, -0.7725, -0.3333,  0.3961,\n",
      "           0.7647,  0.9843,  0.7490,  0.3098, -0.5608, -1.0000, -1.0000,\n",
      "          -1.0000, -1.0000, -1.0000, -1.0000, -1.0000, -1.0000, -1.0000],\n",
      "         [-1.0000, -1.0000, -1.0000, -1.0000, -1.0000, -1.0000, -0.3333,\n",
      "           0.9765,  0.9765,  0.9765,  0.7961,  0.6863,  0.9765,  0.9765,\n",
      "           0.9765,  0.5373,  0.0196, -1.0000, -1.0000, -1.0000, -1.0000,\n",
      "          -1.0000, -1.0000, -1.0000, -1.0000, -1.0000, -1.0000, -1.0000],\n",
      "         [-1.0000, -1.0000, -1.0000, -1.0000, -1.0000, -1.0000, -0.7804,\n",
      "           0.5608,  0.9765,  0.9765,  0.9843,  0.9765,  0.9765,  0.8275,\n",
      "           0.1373, -1.0000, -1.0000, -1.0000, -1.0000, -1.0000, -1.0000,\n",
      "          -1.0000, -1.0000, -1.0000, -1.0000, -1.0000, -1.0000, -1.0000],\n",
      "         [-1.0000, -1.0000, -1.0000, -1.0000, -1.0000, -1.0000, -1.0000,\n",
      "          -0.8039,  0.0039,  0.9765,  0.9843,  0.9765,  0.1059, -0.7098,\n",
      "          -1.0000, -1.0000, -1.0000, -1.0000, -1.0000, -1.0000, -1.0000,\n",
      "          -1.0000, -1.0000, -1.0000, -1.0000, -1.0000, -1.0000, -1.0000],\n",
      "         [-1.0000, -1.0000, -1.0000, -1.0000, -1.0000, -1.0000, -1.0000,\n",
      "          -1.0000, -1.0000, -1.0000, -1.0000, -1.0000, -1.0000, -1.0000,\n",
      "          -1.0000, -1.0000, -1.0000, -1.0000, -1.0000, -1.0000, -1.0000,\n",
      "          -1.0000, -1.0000, -1.0000, -1.0000, -1.0000, -1.0000, -1.0000],\n",
      "         [-1.0000, -1.0000, -1.0000, -1.0000, -1.0000, -1.0000, -1.0000,\n",
      "          -1.0000, -1.0000, -1.0000, -1.0000, -1.0000, -1.0000, -1.0000,\n",
      "          -1.0000, -1.0000, -1.0000, -1.0000, -1.0000, -1.0000, -1.0000,\n",
      "          -1.0000, -1.0000, -1.0000, -1.0000, -1.0000, -1.0000, -1.0000],\n",
      "         [-1.0000, -1.0000, -1.0000, -1.0000, -1.0000, -1.0000, -1.0000,\n",
      "          -1.0000, -1.0000, -1.0000, -1.0000, -1.0000, -1.0000, -1.0000,\n",
      "          -1.0000, -1.0000, -1.0000, -1.0000, -1.0000, -1.0000, -1.0000,\n",
      "          -1.0000, -1.0000, -1.0000, -1.0000, -1.0000, -1.0000, -1.0000],\n",
      "         [-1.0000, -1.0000, -1.0000, -1.0000, -1.0000, -1.0000, -1.0000,\n",
      "          -1.0000, -1.0000, -1.0000, -1.0000, -1.0000, -1.0000, -1.0000,\n",
      "          -1.0000, -1.0000, -1.0000, -1.0000, -1.0000, -1.0000, -1.0000,\n",
      "          -1.0000, -1.0000, -1.0000, -1.0000, -1.0000, -1.0000, -1.0000]]]), 0)\n"
     ]
    }
   ],
   "source": [
    "# 打印MNIST预处理结果\n",
    "print(train_dataset[1])"
   ]
  },
  {
   "cell_type": "code",
   "execution_count": 7,
   "metadata": {
    "ExecuteTime": {
     "start_time": "2025-01-06T21:00:21.945456Z",
     "end_time": "2025-01-06T21:00:27.127136Z"
    },
    "execution": {
     "iopub.execute_input": "2025-01-06T11:52:17.422386Z",
     "iopub.status.busy": "2025-01-06T11:52:17.422038Z",
     "iopub.status.idle": "2025-01-06T11:52:17.734159Z",
     "shell.execute_reply": "2025-01-06T11:52:17.733663Z",
     "shell.execute_reply.started": "2025-01-06T11:52:17.422363Z"
    },
    "scrolled": true,
    "tags": []
   },
   "outputs": [
    {
     "name": "stdout",
     "output_type": "stream",
     "text": [
      "[tensor(3), tensor(6), tensor(7), tensor(6), tensor(4), tensor(6), tensor(4), tensor(4), tensor(8), tensor(9), tensor(1), tensor(1), tensor(2), tensor(9), tensor(6), tensor(1), tensor(5), tensor(3), tensor(8), tensor(5), tensor(2), tensor(0), tensor(5), tensor(9), tensor(6), tensor(5), tensor(4), tensor(4), tensor(9), tensor(8), tensor(3), tensor(1), tensor(3), tensor(4), tensor(3), tensor(9), tensor(8), tensor(7), tensor(9), tensor(7), tensor(9), tensor(5), tensor(9), tensor(9), tensor(2), tensor(9), tensor(6), tensor(1), tensor(2), tensor(9), tensor(4), tensor(7), tensor(3), tensor(6), tensor(5), tensor(7), tensor(7), tensor(5), tensor(4), tensor(5), tensor(9), tensor(1), tensor(5), tensor(0)]\n"
     ]
    },
    {
     "data": {
      "text/plain": "<matplotlib.image.AxesImage at 0x27b2e5afa30>"
     },
     "execution_count": 7,
     "metadata": {},
     "output_type": "execute_result"
    },
    {
     "data": {
      "text/plain": "<Figure size 640x480 with 1 Axes>",
      "image/png": "[encoded data removed]"
     },
     "metadata": {},
     "output_type": "display_data"
    }
   ],
   "source": [
    "# 打印MNIST图片\n",
    "images, labels = next(iter(data_loader_train))\n",
    "img = torchvision.utils.make_grid(images)\n",
    "\n",
    "img = img.numpy().transpose(1,2,0)\n",
    "std = [0.5,0.5,0.5]\n",
    "mean = [0.5,0.5,0.5]\n",
    "img = img*std+mean\n",
    "print([labels[i] for i in range(64)])\n",
    "plt.imshow(img)"
   ]
  },
  {
   "cell_type": "code",
   "execution_count": 48,
   "metadata": {
    "ExecuteTime": {
     "end_time": "2025-01-06T16:26:48.750285Z",
     "start_time": "2025-01-06T16:26:48.738278Z"
    },
    "execution": {
     "iopub.execute_input": "2025-01-06T11:52:20.127584Z",
     "iopub.status.busy": "2025-01-06T11:52:20.127209Z",
     "iopub.status.idle": "2025-01-06T11:52:20.135220Z",
     "shell.execute_reply": "2025-01-06T11:52:20.134563Z",
     "shell.execute_reply.started": "2025-01-06T11:52:20.127557Z"
    },
    "tags": []
   },
   "outputs": [],
   "source": [
    "class CNN_wr(torch.nn.Module):\n",
    "    learning_rate=0.1\n",
    "    def __init__(self):\n",
    "        # 调用nn初始化\n",
    "        super(CNN_wr, self).__init__()\n",
    "        # 超参数\n",
    "        \n",
    "        input_feature = 1\n",
    "        \n",
    "        \n",
    "        feature_1 = 64\n",
    "        feature_2 = 128\n",
    "        \n",
    "        # 搭建第一层\n",
    "        self.conv1 = torch.nn.Sequential(torch.nn.Conv2d(input_feature,feature_1,kernel_size=5,stride=1,padding=0),\n",
    "                                         torch.nn.ReLU(),\n",
    "                                         torch.nn.MaxPool2d(kernel_size=2,stride=2))\n",
    "        # 第二层\n",
    "        self.conv2 = torch.nn.Sequential(torch.nn.Conv2d(feature_1,feature_2,kernel_size=3,stride=1,padding=0),\n",
    "                                         torch.nn.ReLU(),\n",
    "                                         torch.nn.MaxPool2d(kernel_size=2,stride=2))\n",
    "        # 全连接层\n",
    "        self.dense = torch.nn.Sequential(torch.nn.Linear(128*5*5,256),\n",
    "                                         torch.nn.ReLU(),\n",
    "                                        #  torch.nn.Dropout(p=0.5),\n",
    "                                         torch.nn.Linear(256, 10))\n",
    "    \n",
    "    def forward(self, x):\n",
    "        x = self.conv1(x)\n",
    "        x = self.conv2(x)\n",
    "        x = x.view(x.shape[0], -1)\n",
    "        x = self.dense(x)\n",
    "        return x\n",
    "    \n"
   ]
  },
  {
   "cell_type": "code",
   "execution_count": 49,
   "metadata": {
    "ExecuteTime": {
     "end_time": "2025-01-06T16:26:50.186190Z",
     "start_time": "2025-01-06T16:26:50.172186Z"
    },
    "execution": {
     "iopub.execute_input": "2025-01-06T11:52:21.434163Z",
     "iopub.status.busy": "2025-01-06T11:52:21.433833Z",
     "iopub.status.idle": "2025-01-06T11:52:21.443466Z",
     "shell.execute_reply": "2025-01-06T11:52:21.442994Z",
     "shell.execute_reply.started": "2025-01-06T11:52:21.434137Z"
    },
    "tags": []
   },
   "outputs": [],
   "source": [
    "CNN_model_wr = CNN_wr()"
   ]
  },
  {
   "cell_type": "code",
   "execution_count": 50,
   "metadata": {
    "ExecuteTime": {
     "end_time": "2025-01-06T16:26:51.251425Z",
     "start_time": "2025-01-06T16:26:51.246428Z"
    },
    "execution": {
     "iopub.execute_input": "2025-01-06T11:52:22.214451Z",
     "iopub.status.busy": "2025-01-06T11:52:22.214156Z",
     "iopub.status.idle": "2025-01-06T11:52:22.217915Z",
     "shell.execute_reply": "2025-01-06T11:52:22.217289Z",
     "shell.execute_reply.started": "2025-01-06T11:52:22.214430Z"
    },
    "tags": []
   },
   "outputs": [
    {
     "name": "stdout",
     "output_type": "stream",
     "text": [
      "CNN_wr(\n",
      "  (conv1): Sequential(\n",
      "    (0): Conv2d(1, 64, kernel_size=(5, 5), stride=(1, 1))\n",
      "    (1): ReLU()\n",
      "    (2): MaxPool2d(kernel_size=2, stride=2, padding=0, dilation=1, ceil_mode=False)\n",
      "  )\n",
      "  (conv2): Sequential(\n",
      "    (0): Conv2d(64, 128, kernel_size=(3, 3), stride=(1, 1))\n",
      "    (1): ReLU()\n",
      "    (2): MaxPool2d(kernel_size=2, stride=2, padding=0, dilation=1, ceil_mode=False)\n",
      "  )\n",
      "  (dense): Sequential(\n",
      "    (0): Linear(in_features=3200, out_features=256, bias=True)\n",
      "    (1): ReLU()\n",
      "    (2): Linear(in_features=256, out_features=10, bias=True)\n",
      "  )\n",
      ")\n"
     ]
    }
   ],
   "source": [
    "print(CNN_model_wr)"
   ]
  },
  {
   "cell_type": "code",
   "execution_count": 51,
   "metadata": {
    "ExecuteTime": {
     "end_time": "2025-01-06T18:48:05.238540Z",
     "start_time": "2025-01-06T18:48:05.234022Z"
    },
    "collapsed": false,
    "execution": {
     "iopub.execute_input": "2025-01-06T11:52:23.737356Z",
     "iopub.status.busy": "2025-01-06T11:52:23.737013Z",
     "iopub.status.idle": "2025-01-06T11:52:23.741210Z",
     "shell.execute_reply": "2025-01-06T11:52:23.740471Z",
     "shell.execute_reply.started": "2025-01-06T11:52:23.737334Z"
    },
    "jupyter": {
     "outputs_hidden": false
    },
    "tags": []
   },
   "outputs": [
    {
     "name": "stdout",
     "output_type": "stream",
     "text": [
      "Using cuda device\n"
     ]
    }
   ],
   "source": [
    "device = \"cuda\" if torch.cuda.is_available() else \"mps\" if torch.backends.mps.is_available() else \"cpu\"\n",
    "print(f\"Using {device} device\")"
   ]
  },
  {
   "cell_type": "code",
   "execution_count": 52,
   "metadata": {
    "ExecuteTime": {
     "end_time": "2025-01-06T18:50:35.476818Z",
     "start_time": "2025-01-06T18:50:35.449108Z"
    },
    "execution": {
     "iopub.execute_input": "2025-01-06T11:52:25.669899Z",
     "iopub.status.busy": "2025-01-06T11:52:25.669298Z",
     "iopub.status.idle": "2025-01-06T11:52:25.674856Z",
     "shell.execute_reply": "2025-01-06T11:52:25.674161Z",
     "shell.execute_reply.started": "2025-01-06T11:52:25.669874Z"
    },
    "tags": []
   },
   "outputs": [],
   "source": [
    "# 损失函数和优化\n",
    "loss_CE = torch.nn.CrossEntropyLoss()\n",
    "loss_CE = loss_CE.to(device)\n",
    "optimizer = torch.optim.SGD(CNN_model_wr.parameters(), lr=CNN_model_wr.learning_rate)\n",
    "epochs = 10\n",
    "CNN_model_wr = CNN_model_wr.to(device)"
   ]
  },
  {
   "cell_type": "code",
   "execution_count": 71,
   "metadata": {
    "ExecutionIndicator": {
     "show": true
    },
    "execution": {
     "iopub.execute_input": "2025-01-06T12:43:03.436827Z",
     "iopub.status.busy": "2025-01-06T12:43:03.436465Z",
     "iopub.status.idle": "2025-01-06T12:45:05.374714Z",
     "shell.execute_reply": "2025-01-06T12:45:05.373979Z",
     "shell.execute_reply.started": "2025-01-06T12:43:03.436800Z"
    },
    "tags": []
   },
   "outputs": [
    {
     "name": "stderr",
     "output_type": "stream",
     "text": [
      "  0%|          | 0/10 [00:00<?, ?it/s]"
     ]
    },
    {
     "name": "stdout",
     "output_type": "stream",
     "text": [
      "Epoch 1/10\n",
      "----------\n"
     ]
    },
    {
     "name": "stderr",
     "output_type": "stream",
     "text": [
      " 10%|█         | 1/10 [00:12<01:49, 12.12s/it]"
     ]
    },
    {
     "name": "stdout",
     "output_type": "stream",
     "text": [
      "Loss: 0.0000, Train Accuracy: 100.0000%, Test Accuracy: 99.4000%\n",
      "Torch Metrics Acc: tensor([0.9969, 0.9991, 0.9961, 0.9941, 0.9949, 0.9933, 0.9875, 0.9932, 0.9918,\n",
      "        0.9921], device='cuda:0')\n",
      "Recall(0~9): 0.9939\n",
      "Precision(0~9): 0.9939\n",
      "f1 score: 1.0000\n",
      "Auc: 1.0000\n",
      "\n",
      "Epoch 2/10\n",
      "----------\n"
     ]
    },
    {
     "name": "stderr",
     "output_type": "stream",
     "text": [
      " 20%|██        | 2/10 [00:24<01:37, 12.13s/it]"
     ]
    },
    {
     "name": "stdout",
     "output_type": "stream",
     "text": [
      "Loss: 0.0000, Train Accuracy: 100.0000%, Test Accuracy: 99.3800%\n",
      "Torch Metrics Acc: tensor([0.9969, 0.9991, 0.9961, 0.9941, 0.9949, 0.9933, 0.9875, 0.9922, 0.9918,\n",
      "        0.9911], device='cuda:0')\n",
      "Recall(0~9): 0.9937\n",
      "Precision(0~9): 0.9937\n",
      "f1 score: 1.0000\n",
      "Auc: 1.0000\n",
      "\n",
      "Epoch 3/10\n",
      "----------\n"
     ]
    },
    {
     "name": "stderr",
     "output_type": "stream",
     "text": [
      " 30%|███       | 3/10 [00:36<01:25, 12.20s/it]"
     ]
    },
    {
     "name": "stdout",
     "output_type": "stream",
     "text": [
      "Loss: 0.0000, Train Accuracy: 100.0000%, Test Accuracy: 99.3900%\n",
      "Torch Metrics Acc: tensor([0.9969, 0.9991, 0.9952, 0.9941, 0.9949, 0.9922, 0.9875, 0.9942, 0.9918,\n",
      "        0.9921], device='cuda:0')\n",
      "Recall(0~9): 0.9938\n",
      "Precision(0~9): 0.9938\n",
      "f1 score: 1.0000\n",
      "Auc: 1.0000\n",
      "\n",
      "Epoch 4/10\n",
      "----------\n"
     ]
    },
    {
     "name": "stderr",
     "output_type": "stream",
     "text": [
      " 40%|████      | 4/10 [00:48<01:13, 12.17s/it]"
     ]
    },
    {
     "name": "stdout",
     "output_type": "stream",
     "text": [
      "Loss: 0.0000, Train Accuracy: 100.0000%, Test Accuracy: 99.3900%\n",
      "Torch Metrics Acc: tensor([0.9969, 0.9991, 0.9961, 0.9941, 0.9949, 0.9922, 0.9875, 0.9932, 0.9918,\n",
      "        0.9921], device='cuda:0')\n",
      "Recall(0~9): 0.9938\n",
      "Precision(0~9): 0.9938\n",
      "f1 score: 1.0000\n",
      "Auc: 1.0000\n",
      "\n",
      "Epoch 5/10\n",
      "----------\n"
     ]
    },
    {
     "name": "stderr",
     "output_type": "stream",
     "text": [
      " 50%|█████     | 5/10 [01:00<01:00, 12.16s/it]"
     ]
    },
    {
     "name": "stdout",
     "output_type": "stream",
     "text": [
      "Loss: 0.0000, Train Accuracy: 100.0000%, Test Accuracy: 99.3900%\n",
      "Torch Metrics Acc: tensor([0.9969, 0.9991, 0.9961, 0.9941, 0.9949, 0.9922, 0.9875, 0.9932, 0.9918,\n",
      "        0.9921], device='cuda:0')\n",
      "Recall(0~9): 0.9938\n",
      "Precision(0~9): 0.9938\n",
      "f1 score: 1.0000\n",
      "Auc: 1.0000\n",
      "\n",
      "Epoch 6/10\n",
      "----------\n"
     ]
    },
    {
     "name": "stderr",
     "output_type": "stream",
     "text": [
      " 60%|██████    | 6/10 [01:13<00:48, 12.19s/it]"
     ]
    },
    {
     "name": "stdout",
     "output_type": "stream",
     "text": [
      "Loss: 0.0000, Train Accuracy: 100.0000%, Test Accuracy: 99.3800%\n",
      "Torch Metrics Acc: tensor([0.9969, 0.9991, 0.9961, 0.9941, 0.9949, 0.9933, 0.9875, 0.9912, 0.9918,\n",
      "        0.9921], device='cuda:0')\n",
      "Recall(0~9): 0.9937\n",
      "Precision(0~9): 0.9937\n",
      "f1 score: 1.0000\n",
      "Auc: 1.0000\n",
      "\n",
      "Epoch 7/10\n",
      "----------\n"
     ]
    },
    {
     "name": "stderr",
     "output_type": "stream",
     "text": [
      " 70%|███████   | 7/10 [01:25<00:36, 12.18s/it]"
     ]
    },
    {
     "name": "stdout",
     "output_type": "stream",
     "text": [
      "Loss: 0.0000, Train Accuracy: 100.0000%, Test Accuracy: 99.3900%\n",
      "Torch Metrics Acc: tensor([0.9969, 0.9991, 0.9961, 0.9941, 0.9949, 0.9922, 0.9875, 0.9932, 0.9918,\n",
      "        0.9921], device='cuda:0')\n",
      "Recall(0~9): 0.9938\n",
      "Precision(0~9): 0.9938\n",
      "f1 score: 1.0000\n",
      "Auc: 1.0000\n",
      "\n",
      "Epoch 8/10\n",
      "----------\n"
     ]
    },
    {
     "name": "stderr",
     "output_type": "stream",
     "text": [
      " 80%|████████  | 8/10 [01:37<00:24, 12.20s/it]"
     ]
    },
    {
     "name": "stdout",
     "output_type": "stream",
     "text": [
      "Loss: 0.0000, Train Accuracy: 100.0000%, Test Accuracy: 99.3800%\n",
      "Torch Metrics Acc: tensor([0.9969, 0.9991, 0.9961, 0.9941, 0.9949, 0.9922, 0.9875, 0.9932, 0.9908,\n",
      "        0.9921], device='cuda:0')\n",
      "Recall(0~9): 0.9937\n",
      "Precision(0~9): 0.9937\n",
      "f1 score: 1.0000\n",
      "Auc: 1.0000\n",
      "\n",
      "Epoch 9/10\n",
      "----------\n"
     ]
    },
    {
     "name": "stderr",
     "output_type": "stream",
     "text": [
      " 90%|█████████ | 9/10 [01:49<00:12, 12.17s/it]"
     ]
    },
    {
     "name": "stdout",
     "output_type": "stream",
     "text": [
      "Loss: 0.0000, Train Accuracy: 100.0000%, Test Accuracy: 99.3900%\n",
      "Torch Metrics Acc: tensor([0.9969, 0.9991, 0.9961, 0.9941, 0.9949, 0.9933, 0.9875, 0.9932, 0.9908,\n",
      "        0.9921], device='cuda:0')\n",
      "Recall(0~9): 0.9938\n",
      "Precision(0~9): 0.9938\n",
      "f1 score: 1.0000\n",
      "Auc: 1.0000\n",
      "\n",
      "Epoch 10/10\n",
      "----------\n"
     ]
    },
    {
     "name": "stderr",
     "output_type": "stream",
     "text": [
      "100%|██████████| 10/10 [02:01<00:00, 12.19s/it]"
     ]
    },
    {
     "name": "stdout",
     "output_type": "stream",
     "text": [
      "Loss: 0.0000, Train Accuracy: 100.0000%, Test Accuracy: 99.3900%\n",
      "Torch Metrics Acc: tensor([0.9969, 0.9991, 0.9961, 0.9941, 0.9949, 0.9933, 0.9875, 0.9932, 0.9908,\n",
      "        0.9921], device='cuda:0')\n",
      "Recall(0~9): 0.9938\n",
      "Precision(0~9): 0.9938\n",
      "f1 score: 1.0000\n",
      "Auc: 1.0000\n",
      "\n"
     ]
    },
    {
     "name": "stderr",
     "output_type": "stream",
     "text": [
      "\n"
     ]
    }
   ],
   "source": [
    "import warnings\n",
    "warnings.filterwarnings(\"ignore\")\n",
    "\n",
    "# 训练模型\n",
    "for epoch in tqdm(range(epochs)):\n",
    "    test_acc = torchmetrics.Accuracy(task='multiclass', average='none', num_classes=10)\n",
    "    test_acc = test_acc.to(device)\n",
    "    test_recall = torchmetrics.Recall(task='multiclass', average='none', num_classes=10)\n",
    "    test_recall = test_recall.to(device)\n",
    "    test_precision = torchmetrics.Precision(task='multiclass', average='none', num_classes=10)\n",
    "    test_precision = test_precision.to(device)\n",
    "    test_auc = torchmetrics.AUROC(task='multiclass', average=\"macro\", num_classes=10)\n",
    "    test_auc = test_auc.to(device)\n",
    "\n",
    "    \n",
    "    running_loss = 0.0\n",
    "    running_correct = 0\n",
    "    print(\"Epoch {}/{}\".format(epoch+1, epochs))\n",
    "    print(\"-\"*10)\n",
    "    \n",
    "    # TRAIN\n",
    "    for data in data_loader_train:\n",
    "        # __forward__\n",
    "        X_train, y_train = data\n",
    "        X_train = X_train.to(device)\n",
    "        y_train = y_train.to(device)\n",
    "        # 封装tensor，用于反向传播\n",
    "        X_train, y_train = Variable(X_train), Variable(y_train)\n",
    "        outputs = CNN_model_wr(X_train)\n",
    "        # 得到loss\n",
    "        loss = loss_CE(outputs, y_train)\n",
    "        # 每个batch的最大值，取其索引\n",
    "        _, index = torch.max(outputs.data, 1)\n",
    "        \n",
    "        # __backward__\n",
    "        # 清空过往梯度\n",
    "        optimizer.zero_grad()\n",
    "        # 计算梯度\n",
    "        loss.backward()\n",
    "        # 更新权重\n",
    "        optimizer.step()\n",
    "        \n",
    "        running_loss += loss.data\n",
    "        running_correct += torch.sum(index == y_train.data)\n",
    "    \n",
    "    # TEST\n",
    "    testing_correct = 0\n",
    "    for data in data_loader_test:\n",
    "        X_test, y_test = data\n",
    "        X_test = X_test.to(device)\n",
    "        y_test = y_test.to(device)\n",
    "        X_test, y_test = Variable(X_test), Variable(y_test)\n",
    "        outputs = CNN_model_wr(X_test)\n",
    "        _, index = torch.max(outputs.data, 1)\n",
    "        \n",
    "        testing_correct += torch.sum(index == y_test.data)\n",
    "        \n",
    "        test_acc(outputs.argmax(1), y_test)\n",
    "        test_auc.update(outputs, y_test)\n",
    "        test_recall(outputs.argmax(1), y_test)\n",
    "        test_precision(outputs.argmax(1), y_test)\n",
    "        \n",
    "    # 计算一个epoch的accuray、recall、precision、AUC\n",
    "    total_acc = test_acc.compute()\n",
    "    total_recall = test_recall.compute()\n",
    "    total_precision = test_precision.compute()\n",
    "    total_auc = test_auc.compute()\n",
    "    total_f1 = 2* (total_precision.mean(0)) / (total_precision.mean(0) + total_recall.mean(0))\n",
    "    # 将每一个epoch的结果保存在txt文件中\n",
    "    with open(\"./result/CNN_wr.txt\", \"a\") as f:\n",
    "        f.write(\"Epoch: {}, Train Loss: {:.4f}, Train Accuracy: {:.4f}%, Test Accuracy: {:.4f}%\\n\".format(epoch + 1,\n",
    "                                                                                      running_loss/len(train_dataset),\n",
    "                                                                                      100*running_correct/len(train_dataset),\n",
    "                                                                                      100*testing_correct/len(test_dataset)))\n",
    "        f.write(f\"Torch Metrics Acc: {total_acc}\\n\")\n",
    "        f.write(\"Recall(0~9): {:.4f}\\n\".format(total_recall.mean(0)))\n",
    "        f.write(\"Precision(0~9): {:.4f}\\n\".format(total_precision.mean(0)))\n",
    "        f.write(\"f1 score: {:.4f}\\n\".format(total_f1))\n",
    "        f.write(\"Auc: {:.4f}\\n\\n\".format(total_auc.item()))\n",
    "    \n",
    "    print(\"Loss: {:.4f}, Train Accuracy: {:.4f}%, Test Accuracy: {:.4f}%\".format(running_loss/len(train_dataset),\n",
    "                                                                                      100*running_correct/len(train_dataset),\n",
    "                                                                                      100*testing_correct/len(test_dataset)))\n",
    "    print(f\"Torch Metrics Acc: {total_acc}\")\n",
    "    print(\"Recall(0~9): {:.4f}\".format(total_recall.mean(0)))\n",
    "    print(\"Precision(0~9): {:.4f}\".format(total_precision.mean(0)))\n",
    "    print(\"f1 score: {:.4f}\".format(total_f1))\n",
    "    print(\"Auc: {:.4f}\\n\".format(total_auc.item()))\n",
    "\n",
    "    # 清空计算对象\n",
    "    test_precision.reset()\n",
    "    test_acc.reset()\n",
    "    test_recall.reset()\n",
    "    test_auc.reset()\n",
    "    "
   ]
  },
  {
   "cell_type": "code",
   "execution_count": 54,
   "metadata": {
    "ExecutionIndicator": {
     "show": true
    },
    "execution": {
     "iopub.execute_input": "2025-01-06T11:53:32.114600Z",
     "iopub.status.busy": "2025-01-06T11:53:32.114227Z",
     "iopub.status.idle": "2025-01-06T11:53:32.230481Z",
     "shell.execute_reply": "2025-01-06T11:53:32.229848Z",
     "shell.execute_reply.started": "2025-01-06T11:53:32.114574Z"
    },
    "tags": []
   },
   "outputs": [
    {
     "name": "stdout",
     "output_type": "stream",
     "text": [
      "Predict Label is: [tensor(7, device='cuda:0'), tensor(4, device='cuda:0'), tensor(5, device='cuda:0'), tensor(6, device='cuda:0')]\n",
      "Mark Label is: [tensor(7, device='cuda:0'), tensor(4, device='cuda:0'), tensor(5, device='cuda:0'), tensor(6, device='cuda:0')]\n"
     ]
    },
    {
     "data": {
      "text/plain": [
       "<matplotlib.image.AxesImage at 0x7fc8b7d6d8a0>"
      ]
     },
     "execution_count": 54,
     "metadata": {},
     "output_type": "execute_result"
    },
    {
     "data": {
      "image/png": "[encoded data removed]",
      "text/plain": [
       "<Figure size 640x480 with 1 Axes>"
      ]
     },
     "metadata": {},
     "output_type": "display_data"
    }
   ],
   "source": [
    "# 实际预测\n",
    "data_loader_test = torch.utils.data.DataLoader(dataset=test_dataset,\n",
    "                                          batch_size = 4,\n",
    "                                          shuffle = True)\n",
    "X_test, y_test = next(iter(data_loader_test))\n",
    "X_test = X_test.to(device)\n",
    "y_test = y_test.to(device)\n",
    "inputs = Variable(X_test)\n",
    "pred = CNN_model_wr(inputs)\n",
    "_,pred = torch.max(pred, 1)\n",
    "\n",
    "print(\"Predict Label is:\", [ i for i in pred.data])\n",
    "print(\"Mark Label is:\",[i for i in y_test])\n",
    "\n",
    "img = torchvision.utils.make_grid(X_test)\n",
    "img = img.cpu()\n",
    "img = img.numpy().transpose(1,2,0)\n",
    "\n",
    "std  = [0.5,0.5,0.5]\n",
    "mean = [0.5,0.5,0.5]\n",
    "img = img*std+mean\n",
    "plt.imshow(img)\n"
   ]
  },
  {
   "cell_type": "code",
   "execution_count": 61,
   "metadata": {
    "ExecutionIndicator": {
     "show": true
    },
    "execution": {
     "iopub.execute_input": "2025-01-06T12:15:20.999924Z",
     "iopub.status.busy": "2025-01-06T12:15:20.999562Z",
     "iopub.status.idle": "2025-01-06T12:15:21.008774Z",
     "shell.execute_reply": "2025-01-06T12:15:21.008237Z",
     "shell.execute_reply.started": "2025-01-06T12:15:20.999898Z"
    },
    "tags": []
   },
   "outputs": [],
   "source": [
    "# 保存模型参数\n",
    "torch.save(CNN_model_wr, './model/my_model.pth')"
   ]
  },
  {
   "cell_type": "code",
   "execution_count": null,
   "metadata": {},
   "outputs": [],
   "source": []
  }
 ],
 "metadata": {
  "celltoolbar": "Raw Cell Format",
  "kernelspec": {
   "name": "pytroch",
   "language": "python",
   "display_name": "pytroch"
  },
  "language_info": {
   "codemirror_mode": {
    "name": "ipython",
    "version": 3
   },
   "file_extension": ".py",
   "mimetype": "text/x-python",
   "name": "python",
   "nbconvert_exporter": "python",
   "pygments_lexer": "ipython3",
   "version": "3.10.14"
  },
  "share": {
   "datetime": "2025-01-06T11:07:26.612Z",
   "image": {
    "name": "modelscope:1.21.0-pytorch2.3.1tensorflow2.16.1-gpu-py310-cu121-ubuntu22.04",
    "url": "dsw-registry-vpc.cn-shanghai.cr.aliyuncs.com/pai/modelscope:1.21.0-pytorch2.3.1tensorflow2.16.1-gpu-py310-cu121-ubuntu22.04"
   },
   "instance": "dsw-14f148f8ac5811d3",
   "spec": {
    "id": "ecs.gn7i-c8g1.2xlarge",
    "type": "GPU"
   },
   "uid": "1275436145953509"
  },
  "vscode": {
   "interpreter": {
    "hash": "4e894c974a9c6ccfa77845a7dd22544e8f435e3a0dd1c6939db08d30b713c2f0"
   }
  }
 },
 "nbformat": 4,
 "nbformat_minor": 4
}
